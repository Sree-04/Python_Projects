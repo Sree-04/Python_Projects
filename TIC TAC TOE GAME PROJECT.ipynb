{
 "cells": [
  {
   "cell_type": "markdown",
   "id": "ce702896",
   "metadata": {},
   "source": [
    "# FIRST MILESTONE PROJECT"
   ]
  },
  {
   "cell_type": "markdown",
   "id": "36b6c469",
   "metadata": {},
   "source": [
    "TIC TAC TOE GAME "
   ]
  },
  {
   "cell_type": "raw",
   "id": "6a8cefc5",
   "metadata": {},
   "source": [
    "Step 1:-To print out a board.\n",
    "        Set up the board as a list, where each index 1-9 corresponds with a number on a pad.\n",
    "        so we get a 3 by 3 board representation."
   ]
  },
  {
   "cell_type": "code",
   "execution_count": 1,
   "id": "06fc834a",
   "metadata": {},
   "outputs": [],
   "source": [
    "from IPython.display import clear_output\n",
    "def display_board(board):\n",
    "    clear_output()\n",
    "    \n",
    "    print(board[7]+\"|\"+board[8]+\"|\"+board[9])\n",
    "    print(\"-----\")\n",
    "    print(board[4]+\"|\"+board[5]+\"|\"+board[6])\n",
    "    print(\"-----\")\n",
    "    print(board[1]+\"|\"+board[2]+\"|\"+board[3])"
   ]
  },
  {
   "cell_type": "code",
   "execution_count": 2,
   "id": "6b151a68",
   "metadata": {},
   "outputs": [
    {
     "name": "stdout",
     "output_type": "stream",
     "text": [
      "x|o|x\n",
      "-----\n",
      "o|x|o\n",
      "-----\n",
      "x|o|x\n"
     ]
    }
   ],
   "source": [
    "#To test step 1\n",
    "test_board=['#','x','o','x','o','x','o','x','o','x']\n",
    "display_board(test_board)"
   ]
  },
  {
   "cell_type": "raw",
   "id": "93125f6a",
   "metadata": {},
   "source": [
    "Step 2:-To take in a player input and assign their marker as 'X' or 'O'."
   ]
  },
  {
   "cell_type": "code",
   "execution_count": 3,
   "id": "07be8b5f",
   "metadata": {},
   "outputs": [],
   "source": [
    "def player_input():\n",
    "    marker=''\n",
    "    \n",
    "    while marker !='X' and marker != \"O\":      #using while loop to continually ask until we get a correct answer\n",
    "        marker = input('player 1 choose x or o: ').upper()\n",
    "    \n",
    "        if marker == 'X':\n",
    "            return('X','O')\n",
    "        else:\n",
    "            return('O','X')"
   ]
  },
  {
   "cell_type": "code",
   "execution_count": 4,
   "id": "462ba10c",
   "metadata": {},
   "outputs": [
    {
     "name": "stdout",
     "output_type": "stream",
     "text": [
      "player 1 choose x or o: 1\n"
     ]
    },
    {
     "data": {
      "text/plain": [
       "('O', 'X')"
      ]
     },
     "execution_count": 4,
     "metadata": {},
     "output_type": "execute_result"
    }
   ],
   "source": [
    "#To test step 2\n",
    "player_input()"
   ]
  },
  {
   "cell_type": "raw",
   "id": "d0993525",
   "metadata": {},
   "source": [
    "Step 3:- to assign 'x' or 'O' in a position"
   ]
  },
  {
   "cell_type": "code",
   "execution_count": 5,
   "id": "775b2045",
   "metadata": {},
   "outputs": [],
   "source": [
    "def place_marker(board,marker,position):\n",
    "    board[position]= marker"
   ]
  },
  {
   "cell_type": "code",
   "execution_count": 6,
   "id": "5afb44dc",
   "metadata": {},
   "outputs": [
    {
     "name": "stdout",
     "output_type": "stream",
     "text": [
      "x|$|x\n",
      "-----\n",
      "o|x|o\n",
      "-----\n",
      "x|o|x\n"
     ]
    }
   ],
   "source": [
    "#To test step3\n",
    "place_marker(test_board,'$',8)\n",
    "display_board(test_board)"
   ]
  },
  {
   "cell_type": "raw",
   "id": "6525e995",
   "metadata": {},
   "source": [
    "Step 4:- To check if any of these mark(X,O) has won."
   ]
  },
  {
   "cell_type": "code",
   "execution_count": 7,
   "id": "107cfc38",
   "metadata": {},
   "outputs": [],
   "source": [
    "def win_check(board,mark):\n",
    "    return ((board[1] == board[2] == board[3] == mark) or (board[4] == board[5] == board[6] == mark) or (board[7] == board[8] == board[9] == mark) or (board[1] == board[4] == board[7] == mark) or (board[2] == board[5] == board[8] == mark) or (board[3] == board[6] == board[9] == mark) or (board[1] == board[5] == board[9] == mark) or (board[3] == board[5] == board[7] == mark))"
   ]
  },
  {
   "cell_type": "code",
   "execution_count": 8,
   "id": "8e0d65f2",
   "metadata": {},
   "outputs": [
    {
     "data": {
      "text/plain": [
       "False"
      ]
     },
     "execution_count": 8,
     "metadata": {},
     "output_type": "execute_result"
    }
   ],
   "source": [
    "#To test step 4\n",
    "win_check(test_board,'X')"
   ]
  },
  {
   "cell_type": "raw",
   "id": "5ed7d570",
   "metadata": {},
   "source": [
    "Step 5:- To randomly decide whick player goes first by using a random module."
   ]
  },
  {
   "cell_type": "code",
   "execution_count": 9,
   "id": "0e157f4d",
   "metadata": {},
   "outputs": [],
   "source": [
    "from random import randint\n",
    "\n",
    "def choose_first():\n",
    "    toss = randint(0,1)\n",
    "    \n",
    "    if toss == 0:\n",
    "        return 'player 1'\n",
    "    else:\n",
    "        return 'player 2'"
   ]
  },
  {
   "cell_type": "code",
   "execution_count": 10,
   "id": "36347599",
   "metadata": {},
   "outputs": [
    {
     "data": {
      "text/plain": [
       "'player 2'"
      ]
     },
     "execution_count": 10,
     "metadata": {},
     "output_type": "execute_result"
    }
   ],
   "source": [
    "# To test step 5\n",
    "choose_first()"
   ]
  },
  {
   "cell_type": "raw",
   "id": "6254c3cf",
   "metadata": {},
   "source": [
    "Step 6:- To return a boolean indecating whether a space in the board is freely available."
   ]
  },
  {
   "cell_type": "code",
   "execution_count": 11,
   "id": "91853604",
   "metadata": {},
   "outputs": [],
   "source": [
    "def space_check(board,position):\n",
    "    return board[position] == ' '"
   ]
  },
  {
   "cell_type": "code",
   "execution_count": 12,
   "id": "5201d7b2",
   "metadata": {},
   "outputs": [
    {
     "data": {
      "text/plain": [
       "False"
      ]
     },
     "execution_count": 12,
     "metadata": {},
     "output_type": "execute_result"
    }
   ],
   "source": [
    "# To test step 6\n",
    "space_check(test_board,8)"
   ]
  },
  {
   "cell_type": "raw",
   "id": "1534cce5",
   "metadata": {},
   "source": [
    "Step 7:- To check if the board is full or not."
   ]
  },
  {
   "cell_type": "code",
   "execution_count": 13,
   "id": "7eef3342",
   "metadata": {},
   "outputs": [],
   "source": [
    "def full_board_check(board):\n",
    "    for i in range(1,10):\n",
    "        if board[i] == \" \":\n",
    "            return False\n",
    "    else:\n",
    "        return True"
   ]
  },
  {
   "cell_type": "code",
   "execution_count": 14,
   "id": "dcfdc070",
   "metadata": {},
   "outputs": [
    {
     "data": {
      "text/plain": [
       "True"
      ]
     },
     "execution_count": 14,
     "metadata": {},
     "output_type": "execute_result"
    }
   ],
   "source": [
    "# To test step 7\n",
    "full_board_check(test_board)"
   ]
  },
  {
   "cell_type": "raw",
   "id": "7f513d82",
   "metadata": {},
   "source": [
    "Step 8:- To ask the next position (1-9) from the player"
   ]
  },
  {
   "cell_type": "code",
   "execution_count": 15,
   "id": "e108461a",
   "metadata": {},
   "outputs": [],
   "source": [
    "def player_choice(board):\n",
    "    position=0\n",
    "    while position not in [1,2,3,4,5,6,7,8,9] or not space_check(board,position):\n",
    "        position = int(input('choose a position (1-9)'))\n",
    "    return position"
   ]
  },
  {
   "cell_type": "raw",
   "id": "8b834e6c",
   "metadata": {},
   "source": [
    "Step 9:- To ask the player if they want to play again."
   ]
  },
  {
   "cell_type": "code",
   "execution_count": 16,
   "id": "58c3a546",
   "metadata": {},
   "outputs": [],
   "source": [
    "def replay():\n",
    "    choice= input('play again? Y or N:  ')\n",
    "    return choice[0].lower() =='y'"
   ]
  },
  {
   "cell_type": "code",
   "execution_count": 17,
   "id": "0e60c964",
   "metadata": {},
   "outputs": [
    {
     "name": "stdout",
     "output_type": "stream",
     "text": [
      "play again? Y or N:  y\n"
     ]
    },
    {
     "data": {
      "text/plain": [
       "True"
      ]
     },
     "execution_count": 17,
     "metadata": {},
     "output_type": "execute_result"
    }
   ],
   "source": [
    "# TO test step 9\n",
    "replay()"
   ]
  },
  {
   "cell_type": "raw",
   "id": "08e82268",
   "metadata": {},
   "source": [
    "Step 10 :- Main Function"
   ]
  },
  {
   "cell_type": "code",
   "execution_count": null,
   "id": "05635481",
   "metadata": {},
   "outputs": [
    {
     "name": "stdout",
     "output_type": "stream",
     "text": [
      "O| | \n",
      "-----\n",
      "O|O|X\n",
      "-----\n",
      "X| | \n",
      "Player 2's turn\n"
     ]
    }
   ],
   "source": [
    "print(\"Welcome to the Game!\\n\")\n",
    "\n",
    "while True:\n",
    "    board1=[' ']*10   #List of 10 empty string.\n",
    "    player_1,player_2 =  player_input()\n",
    "    turn = choose_first()\n",
    "    print(turn,'Will go first!')\n",
    "    \n",
    "    play_game =input(\"player ready? enter yes or no\")\n",
    "    if play_game.lower()[0] =='y':\n",
    "        game_start = True\n",
    "    else:\n",
    "        game_start = False\n",
    "        \n",
    "    while game_start:\n",
    "        #Player 1's Turn\n",
    "        if turn == 'player 1':\n",
    "            display_board(board1)\n",
    "            print(\"Player 1's turn\")\n",
    "            position = player_choice(board1)\n",
    "            place_marker(board1,player_1,position)\n",
    "            \n",
    "            if win_check(board1,player_1):\n",
    "                display_board(board1)\n",
    "                print('Congratulations!Player 1 Won')\n",
    "                break\n",
    "            else:\n",
    "                if full_board_check(board1):\n",
    "                    display_board(board1)\n",
    "                    print(\"The game is a Tie!\")\n",
    "                    break\n",
    "                else:\n",
    "                    turn = 'player 2'\n",
    "        else:\n",
    "                \n",
    "            #Player 2's Turn\n",
    "\n",
    "            display_board(board1)\n",
    "            print(\"Player 2's turn\")\n",
    "            position = player_choice(board1)\n",
    "            place_marker(board1,player_2,position)\n",
    "\n",
    "            if win_check(board1,player_2):\n",
    "                display_board(board1)\n",
    "                print('Congratulations!Player 2 Won')\n",
    "                break\n",
    "            else:\n",
    "                if full_board_check(board1):\n",
    "                    display_board(board1)\n",
    "                    print(\"The game is a Tie!\")\n",
    "                    break\n",
    "                else:\n",
    "                    turn = 'player 1'\n",
    "    if not replay():\n",
    "        break"
   ]
  },
  {
   "cell_type": "code",
   "execution_count": null,
   "id": "941812ad",
   "metadata": {},
   "outputs": [],
   "source": []
  },
  {
   "cell_type": "code",
   "execution_count": null,
   "id": "360de097",
   "metadata": {},
   "outputs": [],
   "source": []
  }
 ],
 "metadata": {
  "kernelspec": {
   "display_name": "Python 3 (ipykernel)",
   "language": "python",
   "name": "python3"
  },
  "language_info": {
   "codemirror_mode": {
    "name": "ipython",
    "version": 3
   },
   "file_extension": ".py",
   "mimetype": "text/x-python",
   "name": "python",
   "nbconvert_exporter": "python",
   "pygments_lexer": "ipython3",
   "version": "3.10.9"
  }
 },
 "nbformat": 4,
 "nbformat_minor": 5
}
